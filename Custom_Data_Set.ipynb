{
 "cells": [
  {
   "cell_type": "markdown",
   "id": "ac123745-adf2-4aeb-8544-d604bd5ca608",
   "metadata": {},
   "source": [
    "# Custom_Data_Set\n",
    "自分で用意したデータからデータセットを作成する手順"
   ]
  },
  {
   "cell_type": "code",
   "execution_count": 5,
   "id": "c0a3150d-fd5d-4315-b318-1ba1aec95ba4",
   "metadata": {},
   "outputs": [
    {
     "name": "stdout",
     "output_type": "stream",
     "text": [
      "\u001b[0m\u001b[01;35mcat.0.jpg\u001b[0m\n",
      "\u001b[01;35mcat.1.jpg\u001b[0m\n",
      "\u001b[01;35mcat.10.jpg\u001b[0m\n",
      "\u001b[01;35mcat.100.jpg\u001b[0m\n",
      "\u001b[01;35mcat.101.jpg\u001b[0m\n",
      "\u001b[01;35mcat.102.jpg\u001b[0m\n",
      "\u001b[01;35mcat.103.jpg\u001b[0m\n",
      "\u001b[01;35mcat.104.jpg\u001b[0m\n",
      "\u001b[01;35mcat.105.jpg\u001b[0m\n",
      "\u001b[01;35mcat.106.jpg\u001b[0m\n"
     ]
    }
   ],
   "source": [
    "# データセットの確認\n",
    "%ls data/cat_dog_dataset | head -10"
   ]
  },
  {
   "cell_type": "code",
   "execution_count": 9,
   "id": "3b12e595-1c94-4b25-986b-c9a0fa97dea5",
   "metadata": {},
   "outputs": [
    {
     "ename": "ModuleNotFoundError",
     "evalue": "No module named 'pillow'",
     "output_type": "error",
     "traceback": [
      "\u001b[0;31m---------------------------------------------------------------------------\u001b[0m",
      "\u001b[0;31mModuleNotFoundError\u001b[0m                       Traceback (most recent call last)",
      "Cell \u001b[0;32mIn[9], line 8\u001b[0m\n\u001b[1;32m      6\u001b[0m \u001b[38;5;28;01mimport\u001b[39;00m \u001b[38;5;21;01mmatplotlib\u001b[39;00m\u001b[38;5;21;01m.\u001b[39;00m\u001b[38;5;21;01mpyplot\u001b[39;00m \u001b[38;5;28;01mas\u001b[39;00m \u001b[38;5;21;01mplt\u001b[39;00m\n\u001b[1;32m      7\u001b[0m \u001b[38;5;28;01mimport\u001b[39;00m \u001b[38;5;21;01mos\u001b[39;00m\n\u001b[0;32m----> 8\u001b[0m \u001b[38;5;28;01mfrom\u001b[39;00m \u001b[38;5;21;01mpillow\u001b[39;00m \u001b[38;5;28;01mimport\u001b[39;00m image\n",
      "\u001b[0;31mModuleNotFoundError\u001b[0m: No module named 'pillow'"
     ]
    }
   ],
   "source": [
    "import torch\n",
    "import torchvision\n",
    "from torchvision import transforms\n",
    "from torch.utils.data import DataLoader, Dataset, ConcatDataset\n",
    "import numpy as np\n",
    "import matplotlib.pyplot as plt\n",
    "import os\n",
    "from pillow import image"
   ]
  }
 ],
 "metadata": {
  "kernelspec": {
   "display_name": "Python 3 (ipykernel)",
   "language": "python",
   "name": "python3"
  },
  "language_info": {
   "codemirror_mode": {
    "name": "ipython",
    "version": 3
   },
   "file_extension": ".py",
   "mimetype": "text/x-python",
   "name": "python",
   "nbconvert_exporter": "python",
   "pygments_lexer": "ipython3",
   "version": "3.10.12"
  }
 },
 "nbformat": 4,
 "nbformat_minor": 5
}
