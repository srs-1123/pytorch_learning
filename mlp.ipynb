{
 "cells": [
  {
   "cell_type": "code",
   "execution_count": 10,
   "id": "1c62785f-6069-439b-8363-2ad9df2a805b",
   "metadata": {},
   "outputs": [],
   "source": [
    "import torch\n",
    "import numpy as np\n",
    "import matplotlib.pyplot as plt\n",
    "%matplotlib inline"
   ]
  },
  {
   "cell_type": "code",
   "execution_count": 4,
   "id": "9a06ca15-b147-4818-9733-678fb99ecbda",
   "metadata": {},
   "outputs": [
    {
     "name": "stdout",
     "output_type": "stream",
     "text": [
      "True\n"
     ]
    }
   ],
   "source": [
    "print(torch.cuda.is_available())"
   ]
  },
  {
   "cell_type": "markdown",
   "id": "b6150bae-c4b4-4d36-97a9-167e1b8755f0",
   "metadata": {},
   "source": [
    "# Tensor: 多次元配列のデータ\n",
    "* 例：画像: (色、高さ、幅）の３次Tensor"
   ]
  },
  {
   "cell_type": "markdown",
   "id": "eea0ae8d-be90-4139-b1f4-d20fe35ce01d",
   "metadata": {},
   "source": [
    "## Tensorの生成"
   ]
  },
  {
   "cell_type": "code",
   "execution_count": 13,
   "id": "cae61f3f-ab85-4f50-bb3f-17a7c5e31df9",
   "metadata": {},
   "outputs": [],
   "source": [
    "arr = np.arange(10)\n",
    "arr_t = torch.from_numpy(arr)"
   ]
  },
  {
   "cell_type": "code",
   "execution_count": 14,
   "id": "0d1e7e66-161d-40d3-bc24-7a212380b00f",
   "metadata": {},
   "outputs": [
    {
     "data": {
      "text/plain": [
       "tensor([0, 1, 2, 3, 4, 5, 6, 7, 8, 9])"
      ]
     },
     "execution_count": 14,
     "metadata": {},
     "output_type": "execute_result"
    }
   ],
   "source": [
    "arr_t"
   ]
  },
  {
   "cell_type": "code",
   "execution_count": 15,
   "id": "2c95371c-22aa-48fa-99a1-ec03fd1b9d2f",
   "metadata": {},
   "outputs": [
    {
     "data": {
      "text/plain": [
       "tensor(4.5000)"
      ]
     },
     "execution_count": 15,
     "metadata": {},
     "output_type": "execute_result"
    }
   ],
   "source": [
    "torch.mean(arr_t.float())"
   ]
  },
  {
   "cell_type": "code",
   "execution_count": 16,
   "id": "eed2863f-598e-4acc-8d7a-e6942428db58",
   "metadata": {},
   "outputs": [],
   "source": [
    "arr_t2 = torch.ones([10, 20], dtype=torch.float32)"
   ]
  },
  {
   "cell_type": "code",
   "execution_count": null,
   "id": "496ae91e-8363-40ec-b29c-9e080ad570de",
   "metadata": {},
   "outputs": [],
   "source": []
  }
 ],
 "metadata": {
  "kernelspec": {
   "display_name": "Python 3 (ipykernel)",
   "language": "python",
   "name": "python3"
  },
  "language_info": {
   "codemirror_mode": {
    "name": "ipython",
    "version": 3
   },
   "file_extension": ".py",
   "mimetype": "text/x-python",
   "name": "python",
   "nbconvert_exporter": "python",
   "pygments_lexer": "ipython3",
   "version": "3.10.12"
  }
 },
 "nbformat": 4,
 "nbformat_minor": 5
}
