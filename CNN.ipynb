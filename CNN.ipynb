{
 "cells": [
  {
   "cell_type": "markdown",
   "metadata": {
    "id": "iIZKOkmRK3Jz"
   },
   "source": [
    "# CNN(畳み込みNN)によるCIFAR10の分類"
   ]
  },
  {
   "cell_type": "code",
   "execution_count": 1,
   "metadata": {
    "id": "pOlCygPlK72D"
   },
   "outputs": [],
   "source": [
    "import torch\n",
    "import torch.nn as nn\n",
    "import torchvision\n",
    "import torch.optim as optim\n",
    "import numpy as np\n",
    "from torchvision import datasets, transforms\n",
    "import matplotlib.pyplot as plt\n",
    "from torch.utils.data import DataLoader"
   ]
  },
  {
   "cell_type": "code",
   "execution_count": 2,
   "metadata": {
    "colab": {
     "base_uri": "https://localhost:8080/",
     "height": 36
    },
    "id": "rwCTJ0JUM0Jf",
    "outputId": "c0151bce-d968-4ede-939d-c1f5cbe7a4e1"
   },
   "outputs": [
    {
     "data": {
      "text/plain": [
       "'cuda'"
      ]
     },
     "execution_count": 2,
     "metadata": {},
     "output_type": "execute_result"
    }
   ],
   "source": [
    "device = \"cuda\" if torch.cuda.is_available() else \"cpu\"\n",
    "device"
   ]
  },
  {
   "cell_type": "code",
   "execution_count": 3,
   "metadata": {
    "colab": {
     "base_uri": "https://localhost:8080/"
    },
    "id": "oEKIWMO4M4px",
    "outputId": "8af2575a-70fa-4779-999a-b9663b4e0ed1"
   },
   "outputs": [
    {
     "name": "stdout",
     "output_type": "stream",
     "text": [
      "Downloading https://www.cs.toronto.edu/~kriz/cifar-10-python.tar.gz to ./data/cifar-10-python.tar.gz\n"
     ]
    },
    {
     "name": "stderr",
     "output_type": "stream",
     "text": [
      "100.0%\n"
     ]
    },
    {
     "name": "stdout",
     "output_type": "stream",
     "text": [
      "Extracting ./data/cifar-10-python.tar.gz to ./data\n",
      "Files already downloaded and verified\n"
     ]
    }
   ],
   "source": [
    "transform = transforms.Compose([\n",
    "    transforms.ToTensor(), # Tensorかつチャネルファーストに変換\n",
    "    transforms.Normalize((0.5), (0.5)) # N(0.5, 0.5)に正規化\n",
    "])\n",
    "\n",
    "train_dataset = datasets.CIFAR10(root=\"./data\", train=True, download=True, transform=transform)\n",
    "validation_dataset = datasets.CIFAR10(root=\"./data\", train=False, download=True, transform=transform)"
   ]
  },
  {
   "cell_type": "code",
   "execution_count": 4,
   "metadata": {
    "id": "ztoynbP2NuBV"
   },
   "outputs": [],
   "source": [
    "names = (\"plane\", \"car\", \"bird\", \"cat\", \"deer\", \"dog\", \"frog\", \"horse\", \"ship\", \"truck\")"
   ]
  },
  {
   "cell_type": "code",
   "execution_count": 5,
   "metadata": {
    "id": "DiN_hL4GORSP"
   },
   "outputs": [],
   "source": [
    "train_dataloader = DataLoader(train_dataset, batch_size=32, shuffle=True)\n",
    "validation_dataloader = DataLoader(validation_dataset, batch_size=32, shuffle=False)"
   ]
  },
  {
   "cell_type": "code",
   "execution_count": 6,
   "metadata": {
    "id": "31gmoBcwOhlc"
   },
   "outputs": [],
   "source": [
    "data_iter = iter(train_dataloader)"
   ]
  },
  {
   "cell_type": "code",
   "execution_count": 7,
   "metadata": {
    "id": "GM_VD1dOOsFs"
   },
   "outputs": [],
   "source": [
    "imgs, labels = next(data_iter)"
   ]
  },
  {
   "cell_type": "code",
   "execution_count": 8,
   "metadata": {
    "colab": {
     "base_uri": "https://localhost:8080/"
    },
    "id": "Z6AhA8mCOu96",
    "outputId": "6b3082af-2441-4439-a4fe-d2a7ec99b116"
   },
   "outputs": [
    {
     "data": {
      "text/plain": [
       "tensor([6, 0, 6, 9, 2, 1, 0, 8, 1, 3, 3, 1, 5, 1, 9, 7, 0, 7, 0, 4, 9, 3, 0, 1,\n",
       "        1, 1, 6, 7, 3, 3, 5, 6])"
      ]
     },
     "execution_count": 8,
     "metadata": {},
     "output_type": "execute_result"
    }
   ],
   "source": [
    "labels"
   ]
  },
  {
   "cell_type": "code",
   "execution_count": 9,
   "metadata": {
    "id": "uwGT5VNPOvph"
   },
   "outputs": [],
   "source": [
    "img_permute = imgs[0].permute(1, 2, 0)"
   ]
  },
  {
   "cell_type": "code",
   "execution_count": 10,
   "metadata": {
    "id": "oB6MdoEKO0Fy"
   },
   "outputs": [],
   "source": [
    "img_permute = 0.5 * img_permute + 0.5 # 明るさ調整"
   ]
  },
  {
   "cell_type": "code",
   "execution_count": 11,
   "metadata": {
    "id": "a8e7gptrPIvY"
   },
   "outputs": [],
   "source": [
    "img_permute = np.clip(img_permute, 0, 1) # 0から1の範囲にクリップ"
   ]
  },
  {
   "cell_type": "code",
   "execution_count": 12,
   "metadata": {
    "colab": {
     "base_uri": "https://localhost:8080/",
     "height": 447
    },
    "id": "YZ2i0k3EPONd",
    "outputId": "b3903025-e6f8-4aa1-fbdf-e50c78a279c5"
   },
   "outputs": [
    {
     "data": {
      "text/plain": [
       "<matplotlib.image.AxesImage at 0x7fead7ca7790>"
      ]
     },
     "execution_count": 12,
     "metadata": {},
     "output_type": "execute_result"
    },
    {
     "data": {
      "image/png": "[encoded data removed]",
      "text/plain": [
       "<Figure size 640x480 with 1 Axes>"
      ]
     },
     "metadata": {},
     "output_type": "display_data"
    }
   ],
   "source": [
    "plt.imshow(img_permute)"
   ]
  },
  {
   "cell_type": "code",
   "execution_count": 13,
   "metadata": {
    "id": "t6lD5H-WPThO"
   },
   "outputs": [],
   "source": [
    "class CNN(nn.Module):\n",
    "  def __init__(self, num_classes):\n",
    "    super().__init__()\n",
    "    self.features = nn.Sequential(\n",
    "        nn.Conv2d(in_channels=3, out_channels=64, kernel_size=5, padding=2),\n",
    "        nn.ReLU(inplace=True),\n",
    "        nn.MaxPool2d(kernel_size=2),\n",
    "\n",
    "        nn.Conv2d(in_channels=64, out_channels=128, kernel_size=3, padding=1),\n",
    "        nn.ReLU(inplace=True),\n",
    "        nn.MaxPool2d(kernel_size=2),\n",
    "\n",
    "        nn.Conv2d(in_channels=128, out_channels=256, kernel_size=3, padding=1),\n",
    "        nn.ReLU(inplace=True),\n",
    "        nn.MaxPool2d(kernel_size=2),\n",
    "\n",
    "        nn.Conv2d(in_channels=256, out_channels=128, kernel_size=3, padding=1),\n",
    "        nn.ReLU(inplace=True),\n",
    "    )\n",
    "    self.classifier = nn.Linear(in_features=4 * 4 * 128, out_features=num_classes)\n",
    "  def forward(self, x):\n",
    "    x = self.features(x)\n",
    "    x = x.view(x.size(0), -1)\n",
    "    x = self.classifier(x)\n",
    "    return x"
   ]
  },
  {
   "cell_type": "code",
   "execution_count": 14,
   "metadata": {
    "colab": {
     "base_uri": "https://localhost:8080/"
    },
    "id": "Vku7yxbQS0ag",
    "outputId": "84f63557-1d15-4184-bc90-28a961b82cee"
   },
   "outputs": [
    {
     "data": {
      "text/plain": [
       "CNN(\n",
       "  (features): Sequential(\n",
       "    (0): Conv2d(3, 64, kernel_size=(5, 5), stride=(1, 1), padding=(2, 2))\n",
       "    (1): ReLU(inplace=True)\n",
       "    (2): MaxPool2d(kernel_size=2, stride=2, padding=0, dilation=1, ceil_mode=False)\n",
       "    (3): Conv2d(64, 128, kernel_size=(3, 3), stride=(1, 1), padding=(1, 1))\n",
       "    (4): ReLU(inplace=True)\n",
       "    (5): MaxPool2d(kernel_size=2, stride=2, padding=0, dilation=1, ceil_mode=False)\n",
       "    (6): Conv2d(128, 256, kernel_size=(3, 3), stride=(1, 1), padding=(1, 1))\n",
       "    (7): ReLU(inplace=True)\n",
       "    (8): MaxPool2d(kernel_size=2, stride=2, padding=0, dilation=1, ceil_mode=False)\n",
       "    (9): Conv2d(256, 128, kernel_size=(3, 3), stride=(1, 1), padding=(1, 1))\n",
       "    (10): ReLU(inplace=True)\n",
       "  )\n",
       "  (classifier): Linear(in_features=2048, out_features=10, bias=True)\n",
       ")"
      ]
     },
     "execution_count": 14,
     "metadata": {},
     "output_type": "execute_result"
    }
   ],
   "source": [
    "model = CNN(10) # クラス数\n",
    "model.to(device)"
   ]
  },
  {
   "cell_type": "code",
   "execution_count": 15,
   "metadata": {
    "id": "P5J45SOzTDKm"
   },
   "outputs": [],
   "source": [
    "criterion = nn.CrossEntropyLoss()\n",
    "optimizer = optim.Adam(model.parameters(), lr=0.001, weight_decay=5e-4) #weight_decay: L2正則化"
   ]
  },
  {
   "cell_type": "code",
   "execution_count": 16,
   "metadata": {
    "colab": {
     "base_uri": "https://localhost:8080/"
    },
    "id": "xY-RMjuKTY7B",
    "outputId": "891b3b82-02e5-4106-a25a-d212fcb6d3f5"
   },
   "outputs": [
    {
     "name": "stdout",
     "output_type": "stream",
     "text": [
      "epoch: 0, loss: 1.352425706249281, acc: 0.5085372924804688,   val loss: 1.0383075805136952, val acc: 0.6382787227630615\n",
      "epoch: 1, loss: 0.8977268900309933, acc: 0.6862604022026062,   val loss: 0.8696546865918766, val acc: 0.6964856386184692\n",
      "epoch: 2, loss: 0.7278476761783916, acc: 0.7468010187149048,   val loss: 0.8216695363719624, val acc: 0.7156549692153931\n",
      "epoch: 3, loss: 0.621897740140605, acc: 0.7831494212150574,   val loss: 0.7414624292058305, val acc: 0.7465055584907532\n",
      "epoch: 4, loss: 0.5397976492546493, acc: 0.8113803863525391,   val loss: 0.7067160791101547, val acc: 0.7614816427230835\n",
      "epoch: 5, loss: 0.48331481934794995, acc: 0.829314649105072,   val loss: 0.7390787309160629, val acc: 0.7557907104492188\n",
      "epoch: 6, loss: 0.42451617806215586, acc: 0.8511276245117188,   val loss: 0.6878783275334599, val acc: 0.771265983581543\n",
      "epoch: 7, loss: 0.3832546708508325, acc: 0.8636836409568787,   val loss: 0.7513084200243599, val acc: 0.7671725153923035\n",
      "epoch: 8, loss: 0.34402134339310236, acc: 0.8785788416862488,   val loss: 0.7690117848566926, val acc: 0.7670726776123047\n",
      "epoch: 9, loss: 0.31669154267469735, acc: 0.8873960375785828,   val loss: 0.764340207218743, val acc: 0.7689696550369263\n",
      "epoch: 10, loss: 0.2884104608064154, acc: 0.8983924984931946,   val loss: 0.7856631522266248, val acc: 0.7624800205230713\n",
      "epoch: 11, loss: 0.26955494094194316, acc: 0.9036908149719238,   val loss: 0.8155592579049424, val acc: 0.7624800205230713\n",
      "epoch: 12, loss: 0.24633524448611438, acc: 0.9118282198905945,   val loss: 0.8516826302574846, val acc: 0.7606828808784485\n",
      "epoch: 13, loss: 0.23926239836095847, acc: 0.9145873188972473,   val loss: 0.8111159942877559, val acc: 0.7663738131523132\n",
      "epoch: 14, loss: 0.22835458788999327, acc: 0.9204254746437073,   val loss: 0.8484964830140336, val acc: 0.7693690061569214\n"
     ]
    }
   ],
   "source": [
    "num_epochs = 15\n",
    "losses = []\n",
    "accs = []\n",
    "val_losses = []\n",
    "val_accs = []\n",
    "for epoch in range(num_epochs):\n",
    "  running_loss = 0.0\n",
    "  running_acc = 0.0\n",
    "  for imgs, labels in train_dataloader:\n",
    "    imgs = imgs.to(device)\n",
    "    labels = labels.to(device)\n",
    "    optimizer.zero_grad()\n",
    "    output = model(imgs)\n",
    "    loss = criterion(output, labels)\n",
    "    loss.backward()\n",
    "    running_loss += loss.item()\n",
    "    pred = torch.argmax(output, dim=1)\n",
    "    running_acc += torch.mean(pred.eq(labels).float())\n",
    "    optimizer.step()\n",
    "  running_loss /= len(train_dataloader)\n",
    "  running_acc /= len(train_dataloader)\n",
    "  losses.append(running_loss)\n",
    "  accs.append(running_acc)\n",
    "  #\n",
    "  # validation loop\n",
    "  #\n",
    "  val_running_loss = 0.0\n",
    "  val_running_acc = 0.0\n",
    "  for val_imgs, val_labels in validation_dataloader:\n",
    "    val_imgs = val_imgs.to(device)\n",
    "    val_labels = val_labels.to(device)\n",
    "    val_output = model(val_imgs)\n",
    "    val_loss = criterion(val_output, val_labels)\n",
    "    val_running_loss += val_loss.item()\n",
    "    val_pred = torch.argmax(val_output, dim=1)\n",
    "    val_running_acc += torch.mean(val_pred.eq(val_labels).float())\n",
    "  val_running_loss /= len(validation_dataloader)\n",
    "  val_running_acc /= len(validation_dataloader)\n",
    "  val_losses.append(val_running_loss)\n",
    "  val_accs.append(val_running_acc)\n",
    "  print(\"epoch: {}, loss: {}, acc: {}, \\\n",
    "  val loss: {}, val acc: {}\".format(epoch, running_loss, running_acc, val_running_loss, val_running_acc))"
   ]
  },
  {
   "cell_type": "code",
   "execution_count": 17,
   "metadata": {
    "colab": {
     "base_uri": "https://localhost:8080/",
     "height": 447
    },
    "id": "ac52-jIHV0LH",
    "outputId": "0137812d-1cf8-49dd-9d5c-28244f25de7a"
   },
   "outputs": [
    {
     "data": {
      "text/plain": [
       "<matplotlib.legend.Legend at 0x7fead42d55a0>"
      ]
     },
     "execution_count": 17,
     "metadata": {},
     "output_type": "execute_result"
    },
    {
     "data": {
      "image/png": "[encoded data removed]",
      "text/plain": [
       "<Figure size 640x480 with 1 Axes>"
      ]
     },
     "metadata": {},
     "output_type": "display_data"
    }
   ],
   "source": [
    "plt.style.use(\"ggplot\")\n",
    "plt.plot(losses, label=\"train loss\")\n",
    "plt.plot(val_losses, label=\"validation acc\")\n",
    "plt.legend()"
   ]
  },
  {
   "cell_type": "code",
   "execution_count": 18,
   "metadata": {
    "colab": {
     "base_uri": "https://localhost:8080/",
     "height": 600
    },
    "id": "YGkAAgw-XdtX",
    "outputId": "abbf2cff-17d8-4b25-805f-fb4dd1f36af7"
   },
   "outputs": [
    {
     "data": {
      "text/plain": [
       "<function matplotlib.pyplot.legend(*args, **kwargs) -> 'Legend'>"
      ]
     },
     "execution_count": 18,
     "metadata": {},
     "output_type": "execute_result"
    },
    {
     "data": {
      "image/png": "[encoded data removed]",
      "text/plain": [
       "<Figure size 640x480 with 1 Axes>"
      ]
     },
     "metadata": {},
     "output_type": "display_data"
    }
   ],
   "source": [
    "plt.plot([accs_.cpu() for accs_ in accs], label=\"train acc\")\n",
    "plt.plot([accs_.cpu() for accs_ in val_accs], label=\"validation acc\")\n",
    "plt.legend"
   ]
  }
 ],
 "metadata": {
  "accelerator": "GPU",
  "colab": {
   "authorship_tag": "ABX9TyMQOi8ZemA5T0ArdsgHsFsO",
   "gpuType": "T4",
   "provenance": []
  },
  "kernelspec": {
   "display_name": "Python 3 (ipykernel)",
   "language": "python",
   "name": "python3"
  },
  "language_info": {
   "codemirror_mode": {
    "name": "ipython",
    "version": 3
   },
   "file_extension": ".py",
   "mimetype": "text/x-python",
   "name": "python",
   "nbconvert_exporter": "python",
   "pygments_lexer": "ipython3",
   "version": "3.10.12"
  }
 },
 "nbformat": 4,
 "nbformat_minor": 4
}
