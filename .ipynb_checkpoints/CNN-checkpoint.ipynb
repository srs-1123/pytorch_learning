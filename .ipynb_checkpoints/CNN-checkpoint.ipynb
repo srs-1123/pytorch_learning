{
  "nbformat": 4,
  "nbformat_minor": 0,
  "metadata": {
    "colab": {
      "provenance": [],
      "gpuType": "T4",
      "authorship_tag": "ABX9TyMQOi8ZemA5T0ArdsgHsFsO"
    },
    "kernelspec": {
      "name": "python3",
      "display_name": "Python 3"
    },
    "language_info": {
      "name": "python"
    },
    "accelerator": "GPU"
  },
  "cells": [
    {
      "cell_type": "markdown",
      "source": [
        "# CNN(畳み込みNN)によるCIFAR10の分類"
      ],
      "metadata": {
        "id": "iIZKOkmRK3Jz"
      }
    },
    {
      "cell_type": "code",
      "source": [
        "import torch\n",
        "import torch.nn as nn\n",
        "import torchvision\n",
        "import torch.optim as optim\n",
        "import numpy as np\n",
        "from torchvision import datasets, transforms\n",
        "import matplotlib.pyplot as plt\n",
        "from torch.utils.data import DataLoader"
      ],
      "metadata": {
        "id": "pOlCygPlK72D"
      },
      "execution_count": 1,
      "outputs": []
    },
    {
      "cell_type": "code",
      "source": [
        "device = \"cuda\" if torch.cuda.is_available() else \"cpu\"\n",
        "device"
      ],
      "metadata": {
        "colab": {
          "base_uri": "https://localhost:8080/",
          "height": 36
        },
        "id": "rwCTJ0JUM0Jf",
        "outputId": "c0151bce-d968-4ede-939d-c1f5cbe7a4e1"
      },
      "execution_count": 2,
      "outputs": [
        {
          "output_type": "execute_result",
          "data": {
            "text/plain": [
              "'cuda'"
            ],
            "application/vnd.google.colaboratory.intrinsic+json": {
              "type": "string"
            }
          },
          "metadata": {},
          "execution_count": 2
        }
      ]
    },
    {
      "cell_type": "code",
      "source": [
        "transform = transforms.Compose([\n",
        "    transforms.ToTensor(), # Tensorかつチャネルファーストに変換\n",
        "    transforms.Normalize((0.5), (0.5)) # N(0.5, 0.5)に正規化\n",
        "])\n",
        "\n",
        "train_dataset = datasets.CIFAR10(root=\"./data\", train=True, download=True, transform=transform)\n",
        "validation_dataset = datasets.CIFAR10(root=\"./data\", train=False, download=True, transform=transform)"
      ],
      "metadata": {
        "colab": {
          "base_uri": "https://localhost:8080/"
        },
        "id": "oEKIWMO4M4px",
        "outputId": "8af2575a-70fa-4779-999a-b9663b4e0ed1"
      },
      "execution_count": 8,
      "outputs": [
        {
          "output_type": "stream",
          "name": "stdout",
          "text": [
            "Files already downloaded and verified\n",
            "Files already downloaded and verified\n"
          ]
        }
      ]
    },
    {
      "cell_type": "code",
      "source": [
        "names = (\"plane\", \"car\", \"bird\", \"cat\", \"deer\", \"dog\", \"frog\", \"horse\", \"ship\", \"truck\")"
      ],
      "metadata": {
        "id": "ztoynbP2NuBV"
      },
      "execution_count": 6,
      "outputs": []
    },
    {
      "cell_type": "code",
      "source": [
        "train_dataloader = DataLoader(train_dataset, batch_size=32, shuffle=True)\n",
        "validation_dataloader = DataLoader(validation_dataset, batch_size=32, shuffle=False)"
      ],
      "metadata": {
        "id": "DiN_hL4GORSP"
      },
      "execution_count": 9,
      "outputs": []
    },
    {
      "cell_type": "code",
      "source": [
        "data_iter = iter(train_dataloader)"
      ],
      "metadata": {
        "id": "31gmoBcwOhlc"
      },
      "execution_count": 10,
      "outputs": []
    },
    {
      "cell_type": "code",
      "source": [
        "imgs, labels = next(data_iter)"
      ],
      "metadata": {
        "id": "GM_VD1dOOsFs"
      },
      "execution_count": 11,
      "outputs": []
    },
    {
      "cell_type": "code",
      "source": [
        "labels"
      ],
      "metadata": {
        "colab": {
          "base_uri": "https://localhost:8080/"
        },
        "id": "Z6AhA8mCOu96",
        "outputId": "6b3082af-2441-4439-a4fe-d2a7ec99b116"
      },
      "execution_count": 12,
      "outputs": [
        {
          "output_type": "execute_result",
          "data": {
            "text/plain": [
              "tensor([8, 0, 1, 4, 4, 5, 6, 4, 8, 7, 5, 0, 8, 6, 1, 4, 1, 7, 4, 8, 5, 9, 4, 8,\n",
              "        2, 4, 4, 9, 1, 3, 5, 4])"
            ]
          },
          "metadata": {},
          "execution_count": 12
        }
      ]
    },
    {
      "cell_type": "code",
      "source": [
        "img_permute = imgs[0].permute(1, 2, 0)"
      ],
      "metadata": {
        "id": "uwGT5VNPOvph"
      },
      "execution_count": 15,
      "outputs": []
    },
    {
      "cell_type": "code",
      "source": [
        "img_permute = 0.5 * img_permute + 0.5 # 明るさ調整"
      ],
      "metadata": {
        "id": "oB6MdoEKO0Fy"
      },
      "execution_count": 16,
      "outputs": []
    },
    {
      "cell_type": "code",
      "source": [
        "img_permute = np.clip(img_permute, 0, 1) # 0から1の範囲にクリップ"
      ],
      "metadata": {
        "id": "a8e7gptrPIvY"
      },
      "execution_count": 17,
      "outputs": []
    },
    {
      "cell_type": "code",
      "source": [
        "plt.imshow(img_permute)"
      ],
      "metadata": {
        "colab": {
          "base_uri": "https://localhost:8080/",
          "height": 447
        },
        "id": "YZ2i0k3EPONd",
        "outputId": "b3903025-e6f8-4aa1-fbdf-e50c78a279c5"
      },
      "execution_count": 18,
      "outputs": [
        {
          "output_type": "execute_result",
          "data": {
            "text/plain": [
              "<matplotlib.image.AxesImage at 0x7f644fde2380>"
            ]
          },
          "metadata": {},
          "execution_count": 18
        },
        {
          "output_type": "display_data",
          "data": {
            "text/plain": [
              "<Figure size 640x480 with 1 Axes>"
            ],
            "image/png": "[encoded data removed]"
          },
          "metadata": {}
        }
      ]
    },
    {
      "cell_type": "code",
      "source": [
        "class CNN(nn.Module):\n",
        "  def __init__(self, num_classes):\n",
        "    super().__init__()\n",
        "    self.features = nn.Sequential(\n",
        "        nn.Conv2d(in_channels=3, out_channels=64, kernel_size=5, padding=2),\n",
        "        nn.ReLU(inplace=True),\n",
        "        nn.MaxPool2d(kernel_size=2),\n",
        "\n",
        "        nn.Conv2d(in_channels=64, out_channels=128, kernel_size=3, padding=1),\n",
        "        nn.ReLU(inplace=True),\n",
        "        nn.MaxPool2d(kernel_size=2),\n",
        "\n",
        "        nn.Conv2d(in_channels=128, out_channels=256, kernel_size=3, padding=1),\n",
        "        nn.ReLU(inplace=True),\n",
        "        nn.MaxPool2d(kernel_size=2),\n",
        "\n",
        "        nn.Conv2d(in_channels=256, out_channels=128, kernel_size=3, padding=1),\n",
        "        nn.ReLU(inplace=True),\n",
        "    )\n",
        "    self.classifier = nn.Linear(in_features=4 * 4 * 128, out_features=num_classes)\n",
        "  def forward(self, x):\n",
        "    x = self.features(x)\n",
        "    x = x.view(x.size(0), -1)\n",
        "    x = self.classifier(x)\n",
        "    return x"
      ],
      "metadata": {
        "id": "t6lD5H-WPThO"
      },
      "execution_count": 19,
      "outputs": []
    },
    {
      "cell_type": "code",
      "source": [
        "model = CNN(10) # クラス数\n",
        "model.to(device)"
      ],
      "metadata": {
        "colab": {
          "base_uri": "https://localhost:8080/"
        },
        "id": "Vku7yxbQS0ag",
        "outputId": "84f63557-1d15-4184-bc90-28a961b82cee"
      },
      "execution_count": 20,
      "outputs": [
        {
          "output_type": "execute_result",
          "data": {
            "text/plain": [
              "CNN(\n",
              "  (features): Sequential(\n",
              "    (0): Conv2d(3, 64, kernel_size=(5, 5), stride=(1, 1), padding=(2, 2))\n",
              "    (1): ReLU(inplace=True)\n",
              "    (2): MaxPool2d(kernel_size=2, stride=2, padding=0, dilation=1, ceil_mode=False)\n",
              "    (3): Conv2d(64, 128, kernel_size=(3, 3), stride=(1, 1), padding=(1, 1))\n",
              "    (4): ReLU(inplace=True)\n",
              "    (5): MaxPool2d(kernel_size=2, stride=2, padding=0, dilation=1, ceil_mode=False)\n",
              "    (6): Conv2d(128, 256, kernel_size=(3, 3), stride=(1, 1), padding=(1, 1))\n",
              "    (7): ReLU(inplace=True)\n",
              "    (8): MaxPool2d(kernel_size=2, stride=2, padding=0, dilation=1, ceil_mode=False)\n",
              "    (9): Conv2d(256, 128, kernel_size=(3, 3), stride=(1, 1), padding=(1, 1))\n",
              "    (10): ReLU(inplace=True)\n",
              "  )\n",
              "  (classifier): Linear(in_features=2048, out_features=10, bias=True)\n",
              ")"
            ]
          },
          "metadata": {},
          "execution_count": 20
        }
      ]
    },
    {
      "cell_type": "code",
      "source": [
        "criterion = nn.CrossEntropyLoss()\n",
        "optimizer = optim.Adam(model.parameters(), lr=0.001, weight_decay=5e-4) #weight_decay: L2正則化"
      ],
      "metadata": {
        "id": "P5J45SOzTDKm"
      },
      "execution_count": 21,
      "outputs": []
    },
    {
      "cell_type": "code",
      "source": [
        "num_epochs = 15\n",
        "losses = []\n",
        "accs = []\n",
        "val_losses = []\n",
        "val_accs = []\n",
        "for epoch in range(num_epochs):\n",
        "  running_loss = 0.0\n",
        "  running_acc = 0.0\n",
        "  for imgs, labels in train_dataloader:\n",
        "    imgs = imgs.to(device)\n",
        "    labels = labels.to(device)\n",
        "    optimizer.zero_grad()\n",
        "    output = model(imgs)\n",
        "    loss = criterion(output, labels)\n",
        "    loss.backward()\n",
        "    running_loss += loss.item()\n",
        "    pred = torch.argmax(output, dim=1)\n",
        "    running_acc += torch.mean(pred.eq(labels).float())\n",
        "    optimizer.step()\n",
        "  running_loss /= len(train_dataloader)\n",
        "  running_acc /= len(train_dataloader)\n",
        "  losses.append(running_loss)\n",
        "  accs.append(running_acc)\n",
        "  #\n",
        "  # validation loop\n",
        "  #\n",
        "  val_running_loss = 0.0\n",
        "  val_running_acc = 0.0\n",
        "  for val_imgs, val_labels in validation_dataloader:\n",
        "    val_imgs = val_imgs.to(device)\n",
        "    val_labels = val_labels.to(device)\n",
        "    val_output = model(val_imgs)\n",
        "    val_loss = criterion(val_output, val_labels)\n",
        "    val_running_loss += val_loss.item()\n",
        "    val_pred = torch.argmax(val_output, dim=1)\n",
        "    val_running_acc += torch.mean(val_pred.eq(val_labels).float())\n",
        "  val_running_loss /= len(validation_dataloader)\n",
        "  val_running_acc /= len(validation_dataloader)\n",
        "  val_losses.append(val_running_loss)\n",
        "  val_accs.append(val_running_acc)\n",
        "  print(\"epoch: {}, loss: {}, acc: {}, \\\n",
        "  val loss: {}, val acc: {}\".format(epoch, running_loss, running_acc, val_running_loss, val_running_acc))"
      ],
      "metadata": {
        "colab": {
          "base_uri": "https://localhost:8080/"
        },
        "id": "xY-RMjuKTY7B",
        "outputId": "891b3b82-02e5-4106-a25a-d212fcb6d3f5"
      },
      "execution_count": 23,
      "outputs": [
        {
          "output_type": "stream",
          "name": "stdout",
          "text": [
            "epoch: 0, loss: 0.9280332357778202, acc: 0.6726447343826294,    val loss: 0.840157149032282, val acc: 0.7053713798522949\n",
            "epoch: 1, loss: 0.7536647261638177, acc: 0.7348648309707642,    val loss: 0.7688638614579892, val acc: 0.73702073097229\n",
            "epoch: 2, loss: 0.6444503421479895, acc: 0.77541184425354,    val loss: 0.7578863686266036, val acc: 0.7405151724815369\n",
            "epoch: 3, loss: 0.572422051841604, acc: 0.8008037209510803,    val loss: 0.7128113277803976, val acc: 0.7572883367538452\n",
            "epoch: 4, loss: 0.5072255487519811, acc: 0.8225767612457275,    val loss: 0.7861428540259504, val acc: 0.7431110143661499\n",
            "epoch: 5, loss: 0.4550412040697178, acc: 0.8388715386390686,    val loss: 0.6918561156755819, val acc: 0.7628793716430664\n",
            "epoch: 6, loss: 0.41002585396876107, acc: 0.8583053350448608,    val loss: 0.7403928752714833, val acc: 0.7593849897384644\n",
            "epoch: 7, loss: 0.37020415831798176, acc: 0.8693817853927612,    val loss: 0.7784914052524505, val acc: 0.7580870389938354\n",
            "epoch: 8, loss: 0.33752389174009545, acc: 0.8813380002975464,    val loss: 0.7562029264605464, val acc: 0.7666733264923096\n",
            "epoch: 9, loss: 0.3076885621601469, acc: 0.8908549547195435,    val loss: 0.7977558707181638, val acc: 0.7561900615692139\n",
            "epoch: 10, loss: 0.2826073010686263, acc: 0.8994521498680115,    val loss: 0.791900646762726, val acc: 0.7620806694030762\n",
            "epoch: 11, loss: 0.26670836707456747, acc: 0.904730498790741,    val loss: 0.8159034085540345, val acc: 0.763877809047699\n",
            "epoch: 12, loss: 0.2489483551118077, acc: 0.9117882251739502,    val loss: 0.8146527454304618, val acc: 0.7624800205230713\n",
            "epoch: 13, loss: 0.23843342477607082, acc: 0.9161468148231506,    val loss: 0.9013465996653127, val acc: 0.7496006488800049\n",
            "epoch: 14, loss: 0.22997119167780292, acc: 0.9176063537597656,    val loss: 0.9000142171455268, val acc: 0.7551916837692261\n"
          ]
        }
      ]
    },
    {
      "cell_type": "code",
      "source": [
        "plt.style.use(\"ggplot\")\n",
        "plt.plot(losses, label=\"train loss\")\n",
        "plt.plot(val_losses, label=\"validation acc\")\n",
        "plt.legend()"
      ],
      "metadata": {
        "colab": {
          "base_uri": "https://localhost:8080/",
          "height": 447
        },
        "id": "ac52-jIHV0LH",
        "outputId": "0137812d-1cf8-49dd-9d5c-28244f25de7a"
      },
      "execution_count": 26,
      "outputs": [
        {
          "output_type": "execute_result",
          "data": {
            "text/plain": [
              "<matplotlib.legend.Legend at 0x7f64394b7730>"
            ]
          },
          "metadata": {},
          "execution_count": 26
        },
        {
          "output_type": "display_data",
          "data": {
            "text/plain": [
              "<Figure size 640x480 with 1 Axes>"
            ],
            "image/png": "[encoded data removed]"
          },
          "metadata": {}
        }
      ]
    },
    {
      "cell_type": "code",
      "source": [
        "plt.plot([accs_.cpu() for accs_ in accs], label=\"train acc\")\n",
        "plt.plot([accs_.cpu() for accs_ in val_accs], label=\"validation acc\")\n",
        "plt.legend"
      ],
      "metadata": {
        "colab": {
          "base_uri": "https://localhost:8080/",
          "height": 600
        },
        "id": "YGkAAgw-XdtX",
        "outputId": "abbf2cff-17d8-4b25-805f-fb4dd1f36af7"
      },
      "execution_count": 27,
      "outputs": [
        {
          "output_type": "execute_result",
          "data": {
            "text/plain": [
              "<function matplotlib.pyplot.legend(*args, **kwargs)>"
            ],
            "text/html": [
              "<div style=\"max-width:800px; border: 1px solid var(--colab-border-color);\"><style>\n",
              "      pre.function-repr-contents {\n",
              "        overflow-x: auto;\n",
              "        padding: 8px 12px;\n",
              "        max-height: 500px;\n",
              "      }\n",
              "\n",
              "      pre.function-repr-contents.function-repr-contents-collapsed {\n",
              "        cursor: pointer;\n",
              "        max-height: 100px;\n",
              "      }\n",
              "    </style>\n",
              "    <pre style=\"white-space: initial; background:\n",
              "         var(--colab-secondary-surface-color); padding: 8px 12px;\n",
              "         border-bottom: 1px solid var(--colab-border-color);\"><b>matplotlib.pyplot.legend</b><br/>def legend(*args, **kwargs)</pre><pre class=\"function-repr-contents function-repr-contents-collapsed\" style=\"\"><a class=\"filepath\" style=\"display:none\" href=\"#\">/usr/local/lib/python3.10/dist-packages/matplotlib/pyplot.py</a>Place a legend on the Axes.\n",
              "\n",
              "Call signatures::\n",
              "\n",
              "    legend()\n",
              "    legend(handles, labels)\n",
              "    legend(handles=handles)\n",
              "    legend(labels)\n",
              "\n",
              "The call signatures correspond to the following different ways to use\n",
              "this method:\n",
              "\n",
              "**1. Automatic detection of elements to be shown in the legend**\n",
              "\n",
              "The elements to be added to the legend are automatically determined,\n",
              "when you do not pass in any extra arguments.\n",
              "\n",
              "In this case, the labels are taken from the artist. You can specify\n",
              "them either at artist creation or by calling the\n",
              ":meth:`~.Artist.set_label` method on the artist::\n",
              "\n",
              "    ax.plot([1, 2, 3], label=&#x27;Inline label&#x27;)\n",
              "    ax.legend()\n",
              "\n",
              "or::\n",
              "\n",
              "    line, = ax.plot([1, 2, 3])\n",
              "    line.set_label(&#x27;Label via method&#x27;)\n",
              "    ax.legend()\n",
              "\n",
              ".. note::\n",
              "    Specific artists can be excluded from the automatic legend element\n",
              "    selection by using a label starting with an underscore, &quot;_&quot;.\n",
              "    A string starting with an underscore is the default label for all\n",
              "    artists, so calling `.Axes.legend` without any arguments and\n",
              "    without setting the labels manually will result in no legend being\n",
              "    drawn.\n",
              "\n",
              "\n",
              "**2. Explicitly listing the artists and labels in the legend**\n",
              "\n",
              "For full control of which artists have a legend entry, it is possible\n",
              "to pass an iterable of legend artists followed by an iterable of\n",
              "legend labels respectively::\n",
              "\n",
              "    ax.legend([line1, line2, line3], [&#x27;label1&#x27;, &#x27;label2&#x27;, &#x27;label3&#x27;])\n",
              "\n",
              "\n",
              "**3. Explicitly listing the artists in the legend**\n",
              "\n",
              "This is similar to 2, but the labels are taken from the artists&#x27;\n",
              "label properties. Example::\n",
              "\n",
              "    line1, = ax.plot([1, 2, 3], label=&#x27;label1&#x27;)\n",
              "    line2, = ax.plot([1, 2, 3], label=&#x27;label2&#x27;)\n",
              "    ax.legend(handles=[line1, line2])\n",
              "\n",
              "\n",
              "**4. Labeling existing plot elements**\n",
              "\n",
              ".. admonition:: Discouraged\n",
              "\n",
              "    This call signature is discouraged, because the relation between\n",
              "    plot elements and labels is only implicit by their order and can\n",
              "    easily be mixed up.\n",
              "\n",
              "To make a legend for all artists on an Axes, call this function with\n",
              "an iterable of strings, one for each legend item. For example::\n",
              "\n",
              "    ax.plot([1, 2, 3])\n",
              "    ax.plot([5, 6, 7])\n",
              "    ax.legend([&#x27;First line&#x27;, &#x27;Second line&#x27;])\n",
              "\n",
              "\n",
              "Parameters\n",
              "----------\n",
              "handles : sequence of `.Artist`, optional\n",
              "    A list of Artists (lines, patches) to be added to the legend.\n",
              "    Use this together with *labels*, if you need full control on what\n",
              "    is shown in the legend and the automatic mechanism described above\n",
              "    is not sufficient.\n",
              "\n",
              "    The length of handles and labels should be the same in this\n",
              "    case. If they are not, they are truncated to the smaller length.\n",
              "\n",
              "labels : list of str, optional\n",
              "    A list of labels to show next to the artists.\n",
              "    Use this together with *handles*, if you need full control on what\n",
              "    is shown in the legend and the automatic mechanism described above\n",
              "    is not sufficient.\n",
              "\n",
              "Returns\n",
              "-------\n",
              "`~matplotlib.legend.Legend`\n",
              "\n",
              "Other Parameters\n",
              "----------------\n",
              "\n",
              "loc : str or pair of floats, default: :rc:`legend.loc`\n",
              "    The location of the legend.\n",
              "\n",
              "    The strings ``&#x27;upper left&#x27;``, ``&#x27;upper right&#x27;``, ``&#x27;lower left&#x27;``,\n",
              "    ``&#x27;lower right&#x27;`` place the legend at the corresponding corner of the\n",
              "    axes.\n",
              "\n",
              "    The strings ``&#x27;upper center&#x27;``, ``&#x27;lower center&#x27;``, ``&#x27;center left&#x27;``,\n",
              "    ``&#x27;center right&#x27;`` place the legend at the center of the corresponding edge\n",
              "    of the axes.\n",
              "\n",
              "    The string ``&#x27;center&#x27;`` places the legend at the center of the axes.\n",
              "\n",
              "    The string ``&#x27;best&#x27;`` places the legend at the location, among the nine\n",
              "    locations defined so far, with the minimum overlap with other drawn\n",
              "    artists.  This option can be quite slow for plots with large amounts of\n",
              "    data; your plotting speed may benefit from providing a specific location.\n",
              "\n",
              "    The location can also be a 2-tuple giving the coordinates of the lower-left\n",
              "    corner of the legend in axes coordinates (in which case *bbox_to_anchor*\n",
              "    will be ignored).\n",
              "\n",
              "    For back-compatibility, ``&#x27;center right&#x27;`` (but no other location) can also\n",
              "    be spelled ``&#x27;right&#x27;``, and each &quot;string&quot; location can also be given as a\n",
              "    numeric value:\n",
              "\n",
              "        ==================   =============\n",
              "        Location String      Location Code\n",
              "        ==================   =============\n",
              "        &#x27;best&#x27; (Axes only)   0\n",
              "        &#x27;upper right&#x27;        1\n",
              "        &#x27;upper left&#x27;         2\n",
              "        &#x27;lower left&#x27;         3\n",
              "        &#x27;lower right&#x27;        4\n",
              "        &#x27;right&#x27;              5\n",
              "        &#x27;center left&#x27;        6\n",
              "        &#x27;center right&#x27;       7\n",
              "        &#x27;lower center&#x27;       8\n",
              "        &#x27;upper center&#x27;       9\n",
              "        &#x27;center&#x27;             10\n",
              "        ==================   =============\n",
              "    \n",
              "bbox_to_anchor : `.BboxBase`, 2-tuple, or 4-tuple of floats\n",
              "    Box that is used to position the legend in conjunction with *loc*.\n",
              "    Defaults to `axes.bbox` (if called as a method to `.Axes.legend`) or\n",
              "    `figure.bbox` (if `.Figure.legend`).  This argument allows arbitrary\n",
              "    placement of the legend.\n",
              "\n",
              "    Bbox coordinates are interpreted in the coordinate system given by\n",
              "    *bbox_transform*, with the default transform\n",
              "    Axes or Figure coordinates, depending on which ``legend`` is called.\n",
              "\n",
              "    If a 4-tuple or `.BboxBase` is given, then it specifies the bbox\n",
              "    ``(x, y, width, height)`` that the legend is placed in.\n",
              "    To put the legend in the best location in the bottom right\n",
              "    quadrant of the axes (or figure)::\n",
              "\n",
              "        loc=&#x27;best&#x27;, bbox_to_anchor=(0.5, 0., 0.5, 0.5)\n",
              "\n",
              "    A 2-tuple ``(x, y)`` places the corner of the legend specified by *loc* at\n",
              "    x, y.  For example, to put the legend&#x27;s upper right-hand corner in the\n",
              "    center of the axes (or figure) the following keywords can be used::\n",
              "\n",
              "        loc=&#x27;upper right&#x27;, bbox_to_anchor=(0.5, 0.5)\n",
              "\n",
              "ncols : int, default: 1\n",
              "    The number of columns that the legend has.\n",
              "\n",
              "    For backward compatibility, the spelling *ncol* is also supported\n",
              "    but it is discouraged. If both are given, *ncols* takes precedence.\n",
              "\n",
              "prop : None or `matplotlib.font_manager.FontProperties` or dict\n",
              "    The font properties of the legend. If None (default), the current\n",
              "    :data:`matplotlib.rcParams` will be used.\n",
              "\n",
              "fontsize : int or {&#x27;xx-small&#x27;, &#x27;x-small&#x27;, &#x27;small&#x27;, &#x27;medium&#x27;, &#x27;large&#x27;, &#x27;x-large&#x27;, &#x27;xx-large&#x27;}\n",
              "    The font size of the legend. If the value is numeric the size will be the\n",
              "    absolute font size in points. String values are relative to the current\n",
              "    default font size. This argument is only used if *prop* is not specified.\n",
              "\n",
              "labelcolor : str or list, default: :rc:`legend.labelcolor`\n",
              "    The color of the text in the legend. Either a valid color string\n",
              "    (for example, &#x27;red&#x27;), or a list of color strings. The labelcolor can\n",
              "    also be made to match the color of the line or marker using &#x27;linecolor&#x27;,\n",
              "    &#x27;markerfacecolor&#x27; (or &#x27;mfc&#x27;), or &#x27;markeredgecolor&#x27; (or &#x27;mec&#x27;).\n",
              "\n",
              "    Labelcolor can be set globally using :rc:`legend.labelcolor`. If None,\n",
              "    use :rc:`text.color`.\n",
              "\n",
              "numpoints : int, default: :rc:`legend.numpoints`\n",
              "    The number of marker points in the legend when creating a legend\n",
              "    entry for a `.Line2D` (line).\n",
              "\n",
              "scatterpoints : int, default: :rc:`legend.scatterpoints`\n",
              "    The number of marker points in the legend when creating\n",
              "    a legend entry for a `.PathCollection` (scatter plot).\n",
              "\n",
              "scatteryoffsets : iterable of floats, default: ``[0.375, 0.5, 0.3125]``\n",
              "    The vertical offset (relative to the font size) for the markers\n",
              "    created for a scatter plot legend entry. 0.0 is at the base the\n",
              "    legend text, and 1.0 is at the top. To draw all markers at the\n",
              "    same height, set to ``[0.5]``.\n",
              "\n",
              "markerscale : float, default: :rc:`legend.markerscale`\n",
              "    The relative size of legend markers compared to the originally drawn ones.\n",
              "\n",
              "markerfirst : bool, default: True\n",
              "    If *True*, legend marker is placed to the left of the legend label.\n",
              "    If *False*, legend marker is placed to the right of the legend label.\n",
              "\n",
              "reverse : bool, default: False\n",
              "    If *True*, the legend labels are displayed in reverse order from the input.\n",
              "    If *False*, the legend labels are displayed in the same order as the input.\n",
              "\n",
              "    .. versionadded:: 3.7\n",
              "\n",
              "frameon : bool, default: :rc:`legend.frameon`\n",
              "    Whether the legend should be drawn on a patch (frame).\n",
              "\n",
              "fancybox : bool, default: :rc:`legend.fancybox`\n",
              "    Whether round edges should be enabled around the `.FancyBboxPatch` which\n",
              "    makes up the legend&#x27;s background.\n",
              "\n",
              "shadow : bool, default: :rc:`legend.shadow`\n",
              "    Whether to draw a shadow behind the legend.\n",
              "\n",
              "framealpha : float, default: :rc:`legend.framealpha`\n",
              "    The alpha transparency of the legend&#x27;s background.\n",
              "    If *shadow* is activated and *framealpha* is ``None``, the default value is\n",
              "    ignored.\n",
              "\n",
              "facecolor : &quot;inherit&quot; or color, default: :rc:`legend.facecolor`\n",
              "    The legend&#x27;s background color.\n",
              "    If ``&quot;inherit&quot;``, use :rc:`axes.facecolor`.\n",
              "\n",
              "edgecolor : &quot;inherit&quot; or color, default: :rc:`legend.edgecolor`\n",
              "    The legend&#x27;s background patch edge color.\n",
              "    If ``&quot;inherit&quot;``, use take :rc:`axes.edgecolor`.\n",
              "\n",
              "mode : {&quot;expand&quot;, None}\n",
              "    If *mode* is set to ``&quot;expand&quot;`` the legend will be horizontally\n",
              "    expanded to fill the axes area (or *bbox_to_anchor* if defines\n",
              "    the legend&#x27;s size).\n",
              "\n",
              "bbox_transform : None or `matplotlib.transforms.Transform`\n",
              "    The transform for the bounding box (*bbox_to_anchor*). For a value\n",
              "    of ``None`` (default) the Axes&#x27;\n",
              "    :data:`~matplotlib.axes.Axes.transAxes` transform will be used.\n",
              "\n",
              "title : str or None\n",
              "    The legend&#x27;s title. Default is no title (``None``).\n",
              "\n",
              "title_fontproperties : None or `matplotlib.font_manager.FontProperties` or dict\n",
              "    The font properties of the legend&#x27;s title. If None (default), the\n",
              "    *title_fontsize* argument will be used if present; if *title_fontsize* is\n",
              "    also None, the current :rc:`legend.title_fontsize` will be used.\n",
              "\n",
              "title_fontsize : int or {&#x27;xx-small&#x27;, &#x27;x-small&#x27;, &#x27;small&#x27;, &#x27;medium&#x27;, &#x27;large&#x27;, &#x27;x-large&#x27;, &#x27;xx-large&#x27;}, default: :rc:`legend.title_fontsize`\n",
              "    The font size of the legend&#x27;s title.\n",
              "    Note: This cannot be combined with *title_fontproperties*. If you want\n",
              "    to set the fontsize alongside other font properties, use the *size*\n",
              "    parameter in *title_fontproperties*.\n",
              "\n",
              "alignment : {&#x27;center&#x27;, &#x27;left&#x27;, &#x27;right&#x27;}, default: &#x27;center&#x27;\n",
              "    The alignment of the legend title and the box of entries. The entries\n",
              "    are aligned as a single block, so that markers always lined up.\n",
              "\n",
              "borderpad : float, default: :rc:`legend.borderpad`\n",
              "    The fractional whitespace inside the legend border, in font-size units.\n",
              "\n",
              "labelspacing : float, default: :rc:`legend.labelspacing`\n",
              "    The vertical space between the legend entries, in font-size units.\n",
              "\n",
              "handlelength : float, default: :rc:`legend.handlelength`\n",
              "    The length of the legend handles, in font-size units.\n",
              "\n",
              "handleheight : float, default: :rc:`legend.handleheight`\n",
              "    The height of the legend handles, in font-size units.\n",
              "\n",
              "handletextpad : float, default: :rc:`legend.handletextpad`\n",
              "    The pad between the legend handle and text, in font-size units.\n",
              "\n",
              "borderaxespad : float, default: :rc:`legend.borderaxespad`\n",
              "    The pad between the axes and legend border, in font-size units.\n",
              "\n",
              "columnspacing : float, default: :rc:`legend.columnspacing`\n",
              "    The spacing between columns, in font-size units.\n",
              "\n",
              "handler_map : dict or None\n",
              "    The custom dictionary mapping instances or types to a legend\n",
              "    handler. This *handler_map* updates the default handler map\n",
              "    found at `matplotlib.legend.Legend.get_legend_handler_map`.\n",
              "\n",
              "draggable : bool, default: False\n",
              "    Whether the legend can be dragged with the mouse.\n",
              "\n",
              "\n",
              "See Also\n",
              "--------\n",
              ".Figure.legend\n",
              "\n",
              "Notes\n",
              "-----\n",
              "Some artists are not supported by this function.  See\n",
              ":doc:`/tutorials/intermediate/legend_guide` for details.\n",
              "\n",
              "Examples\n",
              "--------\n",
              ".. plot:: gallery/text_labels_and_annotations/legend.py</pre>\n",
              "      <script>\n",
              "      if (google.colab.kernel.accessAllowed && google.colab.files && google.colab.files.view) {\n",
              "        for (const element of document.querySelectorAll('.filepath')) {\n",
              "          element.style.display = 'block'\n",
              "          element.onclick = (event) => {\n",
              "            event.preventDefault();\n",
              "            event.stopPropagation();\n",
              "            google.colab.files.view(element.textContent, 2708);\n",
              "          };\n",
              "        }\n",
              "      }\n",
              "      for (const element of document.querySelectorAll('.function-repr-contents')) {\n",
              "        element.onclick = (event) => {\n",
              "          event.preventDefault();\n",
              "          event.stopPropagation();\n",
              "          element.classList.toggle('function-repr-contents-collapsed');\n",
              "        };\n",
              "      }\n",
              "      </script>\n",
              "      </div>"
            ]
          },
          "metadata": {},
          "execution_count": 27
        },
        {
          "output_type": "display_data",
          "data": {
            "text/plain": [
              "<Figure size 640x480 with 1 Axes>"
            ],
            "image/png": "[encoded data removed]"
          },
          "metadata": {}
        }
      ]
    }
  ]
}