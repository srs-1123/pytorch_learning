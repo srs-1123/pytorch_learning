{
 "cells": [
  {
   "cell_type": "markdown",
   "id": "a179db99-89c9-45bd-b96c-853fb57fbfc4",
   "metadata": {},
   "source": [
    "# Dataset_DataLoader\n",
    "Datasetクラスの実装"
   ]
  },
  {
   "cell_type": "markdown",
   "id": "77299688-9838-448a-bcbc-280d98e8065f",
   "metadata": {},
   "source": [
    "## Datasetの作成"
   ]
  },
  {
   "cell_type": "code",
   "execution_count": 1,
   "id": "8fdfc916-c8ea-403f-818e-ad7e55d0e541",
   "metadata": {},
   "outputs": [],
   "source": [
    "def make_datapath_list(rootpath):\n",
    "    return 0"
   ]
  },
  {
   "cell_type": "code",
   "execution_count": null,
   "id": "0b5288cb-5857-495a-97ae-d486f503cf00",
   "metadata": {},
   "outputs": [],
   "source": []
  }
 ],
 "metadata": {
  "kernelspec": {
   "display_name": "Python 3 (ipykernel)",
   "language": "python",
   "name": "python3"
  },
  "language_info": {
   "codemirror_mode": {
    "name": "ipython",
    "version": 3
   },
   "file_extension": ".py",
   "mimetype": "text/x-python",
   "name": "python",
   "nbconvert_exporter": "python",
   "pygments_lexer": "ipython3",
   "version": "3.11.8"
  }
 },
 "nbformat": 4,
 "nbformat_minor": 5
}
