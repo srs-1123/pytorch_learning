{
 "cells": [
  {
   "cell_type": "markdown",
   "metadata": {},
   "source": [
    "# 2.6 損失関数の実装\n",
    "\n",
    "- 本ファイルでは、SSDネットワークモデルの損失関数を作成します。\n",
    "# 2.6 学習目標\n",
    "\n",
    "1.\tjaccard係数を用いたmatch関数の動作を理解する\n",
    "2.\tHard Negative Miningを理解する\n",
    "3.\t2種類の損失関数（SmoothL1Loss関数、交差エントロピー誤差関数）の働きを理解する\n",
    "# 事前準備\n",
    "\n",
    "\n",
    "フォルダ「utils」のmatch.pyを使用します\n"
   ]
  },
  {
   "cell_type": "code",
   "execution_count": 3,
   "metadata": {},
   "outputs": [],
   "source": [
    "# パッケージのimport\n",
    "import torch\n",
    "import torch.nn as nn\n",
    "import torch.nn.functional as F\n",
    "\n",
    "# フォルダ「utils」にある関数matchを記述したmatch.pyからimport\n",
    "from utils.match import match"
   ]
  },
  {
   "cell_type": "code",
   "execution_count": null,
   "metadata": {},
   "outputs": [],
   "source": []
  }
 ],
 "metadata": {
  "kernelspec": {
   "display_name": "Python 3",
   "language": "python",
   "name": "python3"
  },
  "language_info": {
   "codemirror_mode": {
    "name": "ipython",
    "version": 3
   },
   "file_extension": ".py",
   "mimetype": "text/x-python",
   "name": "python",
   "nbconvert_exporter": "python",
   "pygments_lexer": "ipython3",
   "version": "3.8.10"
  }
 },
 "nbformat": 4,
 "nbformat_minor": 2
}
