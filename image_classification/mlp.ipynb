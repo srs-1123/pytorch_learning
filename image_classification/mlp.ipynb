{
  "cells": [
    {
      "cell_type": "code",
      "execution_count": 53,
      "id": "1c62785f-6069-439b-8363-2ad9df2a805b",
      "metadata": {
        "id": "1c62785f-6069-439b-8363-2ad9df2a805b"
      },
      "outputs": [],
      "source": [
        "import torch\n",
        "import torch.nn as nn\n",
        "import torch.optim as optim\n",
        "import numpy as np\n",
        "import matplotlib.pyplot as plt\n",
        "import seaborn as sns\n",
        "from torchvision import datasets, transforms\n",
        "from torch.utils.data import DataLoader\n",
        "%matplotlib inline"
      ]
    },
    {
      "cell_type": "code",
      "execution_count": 54,
      "id": "9a06ca15-b147-4818-9733-678fb99ecbda",
      "metadata": {
        "id": "9a06ca15-b147-4818-9733-678fb99ecbda",
        "outputId": "d815201b-2767-48a5-ef20-20bd2d003d82",
        "colab": {
          "base_uri": "https://localhost:8080/",
          "height": 36
        }
      },
      "outputs": [
        {
          "output_type": "execute_result",
          "data": {
            "text/plain": [
              "'cuda'"
            ],
            "application/vnd.google.colaboratory.intrinsic+json": {
              "type": "string"
            }
          },
          "metadata": {},
          "execution_count": 54
        }
      ],
      "source": [
        "device = \"cuda\" if torch.cuda.is_available() else \"cpu\"\n",
        "device"
      ]
    },
    {
      "cell_type": "markdown",
      "id": "b6150bae-c4b4-4d36-97a9-167e1b8755f0",
      "metadata": {
        "id": "b6150bae-c4b4-4d36-97a9-167e1b8755f0"
      },
      "source": [
        "# MLPによる手書き数字の分類"
      ]
    },
    {
      "cell_type": "code",
      "source": [
        "transform = transforms.Compose([\n",
        "    transforms.ToTensor()\n",
        "])\n",
        "train_dataset = datasets.MNIST(root=\".\\data\", train=True, download=True, transform=transform)"
      ],
      "metadata": {
        "id": "hEqS-TfmB609"
      },
      "id": "hEqS-TfmB609",
      "execution_count": 55,
      "outputs": []
    },
    {
      "cell_type": "code",
      "source": [
        "num_batches = 100"
      ],
      "metadata": {
        "id": "zejz2XIaCa0S"
      },
      "id": "zejz2XIaCa0S",
      "execution_count": 56,
      "outputs": []
    },
    {
      "cell_type": "code",
      "source": [
        "train_dataloader = DataLoader(train_dataset, batch_size=num_batches, shuffle=True)"
      ],
      "metadata": {
        "id": "M40UzWSzDI97"
      },
      "id": "M40UzWSzDI97",
      "execution_count": 57,
      "outputs": []
    },
    {
      "cell_type": "code",
      "source": [
        "train_iter = iter(train_dataloader)"
      ],
      "metadata": {
        "id": "dFov2rggDLRM"
      },
      "id": "dFov2rggDLRM",
      "execution_count": 58,
      "outputs": []
    },
    {
      "cell_type": "code",
      "source": [
        "imgs, labels = next(train_iter)"
      ],
      "metadata": {
        "id": "xxMeShpeDNDK"
      },
      "id": "xxMeShpeDNDK",
      "execution_count": 59,
      "outputs": []
    },
    {
      "cell_type": "code",
      "source": [
        "imgs.size()"
      ],
      "metadata": {
        "colab": {
          "base_uri": "https://localhost:8080/"
        },
        "id": "_VaVg5gCDP1P",
        "outputId": "207afa61-6835-4739-e40c-c1dc7e202f95"
      },
      "id": "_VaVg5gCDP1P",
      "execution_count": 60,
      "outputs": [
        {
          "output_type": "execute_result",
          "data": {
            "text/plain": [
              "torch.Size([100, 1, 28, 28])"
            ]
          },
          "metadata": {},
          "execution_count": 60
        }
      ]
    },
    {
      "cell_type": "code",
      "source": [
        "img_permute = imgs[0].permute(1, 2, 0) # チャネルを最後に持ってくる\n",
        "sns.heatmap(img_permute.numpy()[:, :, 0]) # ２次元配列に変換"
      ],
      "metadata": {
        "colab": {
          "base_uri": "https://localhost:8080/",
          "height": 452
        },
        "id": "mVmINRsTDznf",
        "outputId": "998fd2e8-b28e-4b97-a184-733ecf768358"
      },
      "id": "mVmINRsTDznf",
      "execution_count": 61,
      "outputs": [
        {
          "output_type": "execute_result",
          "data": {
            "text/plain": [
              "<Axes: >"
            ]
          },
          "metadata": {},
          "execution_count": 61
        },
        {
          "output_type": "display_data",
          "data": {
            "text/plain": [
              "<Figure size 640x480 with 2 Axes>"
            ],
            "image/png": "[encoded data removed]"
          },
          "metadata": {}
        }
      ]
    },
    {
      "cell_type": "code",
      "source": [
        "class MLP(nn.Module):\n",
        "  def __init__(self):\n",
        "    super().__init__()\n",
        "    self.classifier = nn.Sequential(\n",
        "        nn.Linear(28 * 28, 400),\n",
        "        nn.ReLU(inplace=True),\n",
        "        nn.Linear(400, 200),\n",
        "        nn.ReLU(inplace=True),\n",
        "        nn.Linear(200, 100),\n",
        "        nn.ReLU(inplace=True),\n",
        "        nn.Linear(100, 10) # 10クラス分類なのでアウトプットは10\n",
        "    )\n",
        "  def forward(self, x):\n",
        "    out = self.classifier(x)\n",
        "    return out"
      ],
      "metadata": {
        "id": "Ix-TJQid_mTB"
      },
      "id": "Ix-TJQid_mTB",
      "execution_count": 62,
      "outputs": []
    },
    {
      "cell_type": "markdown",
      "source": [
        "* バッチ学習：学習データを一気に学習\n",
        "* ミニバッチ学習: いくつかのバッチに分けて学習"
      ],
      "metadata": {
        "id": "guy1AHoyAsh6"
      },
      "id": "guy1AHoyAsh6"
    },
    {
      "cell_type": "code",
      "source": [
        "model = MLP()\n",
        "model.to(device)"
      ],
      "metadata": {
        "colab": {
          "base_uri": "https://localhost:8080/"
        },
        "id": "34RNTKC8A0Tb",
        "outputId": "effb3b53-80da-4309-d3e2-8917c4fe2ea3"
      },
      "id": "34RNTKC8A0Tb",
      "execution_count": 63,
      "outputs": [
        {
          "output_type": "execute_result",
          "data": {
            "text/plain": [
              "MLP(\n",
              "  (classifier): Sequential(\n",
              "    (0): Linear(in_features=784, out_features=400, bias=True)\n",
              "    (1): ReLU(inplace=True)\n",
              "    (2): Linear(in_features=400, out_features=200, bias=True)\n",
              "    (3): ReLU(inplace=True)\n",
              "    (4): Linear(in_features=200, out_features=100, bias=True)\n",
              "    (5): ReLU(inplace=True)\n",
              "    (6): Linear(in_features=100, out_features=10, bias=True)\n",
              "  )\n",
              ")"
            ]
          },
          "metadata": {},
          "execution_count": 63
        }
      ]
    },
    {
      "cell_type": "code",
      "source": [
        "criterion = nn.CrossEntropyLoss()\n",
        "optimizer = optim.Adam(model.parameters(), lr=0.001)"
      ],
      "metadata": {
        "id": "YWLn4m-4E9Qa"
      },
      "id": "YWLn4m-4E9Qa",
      "execution_count": 64,
      "outputs": []
    },
    {
      "cell_type": "code",
      "source": [
        "num_epochs = 15\n",
        "losses = []\n",
        "accs = []\n",
        "for epoch in range(num_epochs):\n",
        "  running_loss = 0.0\n",
        "  running_acc = 0.0\n",
        "  for imgs, labels in train_dataloader:\n",
        "    imgs = imgs.view(num_batches, -1)\n",
        "    imgs = imgs.to(device)\n",
        "    labels = labels.to(device)\n",
        "    optimizer.zero_grad() # 勾配を初期化\n",
        "    output = model(imgs) # 出力\n",
        "    loss = criterion(output, labels) # 損失関数を計算\n",
        "    running_loss += loss.item()\n",
        "    pred = torch.argmax(output, dim=1) # 出力確率が１番高い数字に分類\n",
        "    running_acc += torch.mean(pred.eq(labels).float())\n",
        "    loss.backward()\n",
        "    optimizer.step()\n",
        "  running_loss /= len(train_dataloader) # バッチごとの平均損失を計算\n",
        "  running_acc /= len(train_dataloader) # バッチごとの平均精度を計算\n",
        "  losses.append(running_loss)\n",
        "  accs.append(running_acc)\n",
        "  print(\"epoch: {}, loss: {}, acc: {}\".format(epoch, running_loss, running_acc))"
      ],
      "metadata": {
        "colab": {
          "base_uri": "https://localhost:8080/"
        },
        "id": "dScZSGQfBWOr",
        "outputId": "03cb4756-7c51-4f8c-e723-b7875a1741ce"
      },
      "id": "dScZSGQfBWOr",
      "execution_count": 65,
      "outputs": [
        {
          "output_type": "stream",
          "name": "stdout",
          "text": [
            "epoch: 0, loss: 0.3067548516392708, acc: 0.9100173115730286\n",
            "epoch: 1, loss: 0.10749929635164639, acc: 0.9668160080909729\n",
            "epoch: 2, loss: 0.07033159589394927, acc: 0.9778483510017395\n",
            "epoch: 3, loss: 0.050775292747033136, acc: 0.9831324219703674\n",
            "epoch: 4, loss: 0.03919705703505315, acc: 0.9870822429656982\n",
            "epoch: 5, loss: 0.029858454519611163, acc: 0.9899486303329468\n",
            "epoch: 6, loss: 0.024222695530503793, acc: 0.9923321008682251\n",
            "epoch: 7, loss: 0.021248430343694055, acc: 0.9929816722869873\n",
            "epoch: 8, loss: 0.019885070716203095, acc: 0.993332028388977\n",
            "epoch: 9, loss: 0.017505844754826586, acc: 0.9941819310188293\n",
            "epoch: 10, loss: 0.015564408060902982, acc: 0.9951151609420776\n",
            "epoch: 11, loss: 0.013273321389776053, acc: 0.9954152703285217\n",
            "epoch: 12, loss: 0.01461706504830848, acc: 0.9955319166183472\n",
            "epoch: 13, loss: 0.010784631570907853, acc: 0.9966322183609009\n",
            "epoch: 14, loss: 0.010493802548216991, acc: 0.9966157078742981\n"
          ]
        }
      ]
    },
    {
      "cell_type": "code",
      "source": [
        "plt.plot(losses)"
      ],
      "metadata": {
        "colab": {
          "base_uri": "https://localhost:8080/",
          "height": 447
        },
        "id": "PJ3t4zRPGdRK",
        "outputId": "1a68130a-c3ac-4ab0-8d3a-14425939c6f8"
      },
      "id": "PJ3t4zRPGdRK",
      "execution_count": 66,
      "outputs": [
        {
          "output_type": "execute_result",
          "data": {
            "text/plain": [
              "[<matplotlib.lines.Line2D at 0x7cd020b08400>]"
            ]
          },
          "metadata": {},
          "execution_count": 66
        },
        {
          "output_type": "display_data",
          "data": {
            "text/plain": [
              "<Figure size 640x480 with 1 Axes>"
            ],
            "image/png": "[encoded data removed]"
          },
          "metadata": {}
        }
      ]
    },
    {
      "cell_type": "code",
      "source": [
        "accs_numpy = []\n",
        "for acc in accs:\n",
        "  accs_numpy.append(acc.cpu().numpy())\n",
        "plt.plot(accs_numpy)"
      ],
      "metadata": {
        "colab": {
          "base_uri": "https://localhost:8080/",
          "height": 449
        },
        "id": "bq9nNUnqG7yH",
        "outputId": "368a7b14-b8d8-430b-c371-596cb172966d"
      },
      "id": "bq9nNUnqG7yH",
      "execution_count": 67,
      "outputs": [
        {
          "output_type": "execute_result",
          "data": {
            "text/plain": [
              "[<matplotlib.lines.Line2D at 0x7cd020ba75e0>]"
            ]
          },
          "metadata": {},
          "execution_count": 67
        },
        {
          "output_type": "display_data",
          "data": {
            "text/plain": [
              "<Figure size 640x480 with 1 Axes>"
            ],
            "image/png": "[encoded data removed]"
          },
          "metadata": {}
        }
      ]
    },
    {
      "cell_type": "code",
      "source": [
        "train_iter = iter(train_dataloader)\n",
        "imgs, labels = next(train_iter)\n",
        "labels"
      ],
      "metadata": {
        "colab": {
          "base_uri": "https://localhost:8080/"
        },
        "id": "7cGJDJBYIB9K",
        "outputId": "b763ce63-e68e-401d-9f5f-d7e0da5c2739"
      },
      "id": "7cGJDJBYIB9K",
      "execution_count": 68,
      "outputs": [
        {
          "output_type": "execute_result",
          "data": {
            "text/plain": [
              "tensor([0, 3, 1, 8, 8, 2, 2, 0, 0, 9, 4, 4, 3, 4, 8, 1, 4, 6, 0, 1, 5, 6, 7, 6,\n",
              "        6, 1, 9, 2, 4, 4, 0, 0, 5, 0, 9, 5, 9, 7, 8, 8, 4, 9, 7, 9, 1, 2, 5, 0,\n",
              "        1, 1, 8, 2, 6, 9, 5, 3, 5, 0, 1, 6, 2, 7, 8, 4, 5, 6, 3, 9, 7, 5, 9, 5,\n",
              "        0, 1, 0, 8, 4, 9, 2, 0, 2, 8, 8, 3, 7, 5, 9, 2, 6, 5, 7, 2, 9, 6, 2, 3,\n",
              "        1, 7, 3, 4])"
            ]
          },
          "metadata": {},
          "execution_count": 68
        }
      ]
    },
    {
      "cell_type": "code",
      "source": [
        "imgs_gpu = imgs.view(100, -1).to(device)\n",
        "output = model(imgs_gpu)"
      ],
      "metadata": {
        "id": "w-MJlgxRILD_"
      },
      "id": "w-MJlgxRILD_",
      "execution_count": 69,
      "outputs": []
    },
    {
      "cell_type": "code",
      "source": [
        "pred = torch.argmax(output, dim=1)"
      ],
      "metadata": {
        "id": "5l0goAUBITvo"
      },
      "id": "5l0goAUBITvo",
      "execution_count": 70,
      "outputs": []
    },
    {
      "cell_type": "code",
      "source": [
        "pred"
      ],
      "metadata": {
        "colab": {
          "base_uri": "https://localhost:8080/"
        },
        "id": "I6aKYm5AIqjC",
        "outputId": "4d1c91fc-7693-476e-ff48-8463d51d2327"
      },
      "id": "I6aKYm5AIqjC",
      "execution_count": 71,
      "outputs": [
        {
          "output_type": "execute_result",
          "data": {
            "text/plain": [
              "tensor([0, 3, 1, 8, 8, 2, 2, 0, 0, 9, 4, 4, 3, 2, 8, 1, 4, 6, 0, 1, 5, 6, 7, 6,\n",
              "        6, 1, 9, 2, 4, 4, 0, 0, 5, 0, 9, 5, 9, 7, 8, 8, 4, 9, 7, 9, 1, 2, 5, 0,\n",
              "        1, 1, 8, 2, 6, 9, 5, 3, 5, 0, 1, 6, 2, 7, 8, 4, 5, 6, 3, 9, 7, 5, 9, 5,\n",
              "        0, 1, 0, 8, 4, 9, 2, 0, 2, 8, 8, 3, 7, 5, 9, 2, 6, 5, 7, 2, 9, 6, 2, 3,\n",
              "        1, 7, 3, 4], device='cuda:0')"
            ]
          },
          "metadata": {},
          "execution_count": 71
        }
      ]
    }
  ],
  "metadata": {
    "kernelspec": {
      "display_name": "Python 3",
      "name": "python3"
    },
    "language_info": {
      "codemirror_mode": {
        "name": "ipython",
        "version": 3
      },
      "file_extension": ".py",
      "mimetype": "text/x-python",
      "name": "python",
      "nbconvert_exporter": "python",
      "pygments_lexer": "ipython3",
      "version": "3.10.12"
    },
    "colab": {
      "provenance": [],
      "gpuType": "T4"
    },
    "accelerator": "GPU"
  },
  "nbformat": 4,
  "nbformat_minor": 5
}